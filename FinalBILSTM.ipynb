{
  "nbformat": 4,
  "nbformat_minor": 0,
  "metadata": {
    "colab": {
      "name": "FinalBILSTM.ipynb",
      "provenance": [],
      "collapsed_sections": [
        "xYmVrfbEtc0X"
      ]
    },
    "kernelspec": {
      "name": "python3",
      "display_name": "Python 3"
    },
    "accelerator": "GPU"
  },
  "cells": [
    {
      "cell_type": "markdown",
      "metadata": {
        "id": "jiHy46-oCWUs"
      },
      "source": [
        "#### Import "
      ]
    },
    {
      "cell_type": "code",
      "metadata": {
        "id": "qI7nW7S6BedL",
        "colab": {
          "base_uri": "https://localhost:8080/"
        },
        "outputId": "8bf47075-d5b0-4340-92ec-f12cab1d87d1"
      },
      "source": [
        "from google.colab import drive\n",
        "drive.mount('/content/drive')"
      ],
      "execution_count": null,
      "outputs": [
        {
          "output_type": "stream",
          "text": [
            "Mounted at /content/drive\n"
          ],
          "name": "stdout"
        }
      ]
    },
    {
      "cell_type": "code",
      "metadata": {
        "id": "mDvdMtImLGFg",
        "colab": {
          "base_uri": "https://localhost:8080/"
        },
        "outputId": "b9cf4b19-721e-412b-8bf9-75b007a71d5f"
      },
      "source": [
        "!pip install tensorflow==2.1.0"
      ],
      "execution_count": null,
      "outputs": [
        {
          "output_type": "stream",
          "text": [
            "Collecting tensorflow==2.1.0\n",
            "\u001b[?25l  Downloading https://files.pythonhosted.org/packages/1d/56/0dbdae2a3c527a119bec0d5cf441655fe030ce1daa6fa6b9542f7dbd8664/tensorflow-2.1.0-cp37-cp37m-manylinux2010_x86_64.whl (421.8MB)\n",
            "\u001b[K     |████████████████████████████████| 421.8MB 17kB/s \n",
            "\u001b[?25hCollecting tensorflow-estimator<2.2.0,>=2.1.0rc0\n",
            "\u001b[?25l  Downloading https://files.pythonhosted.org/packages/18/90/b77c328a1304437ab1310b463e533fa7689f4bfc41549593056d812fab8e/tensorflow_estimator-2.1.0-py2.py3-none-any.whl (448kB)\n",
            "\u001b[K     |████████████████████████████████| 450kB 43.4MB/s \n",
            "\u001b[?25hRequirement already satisfied: protobuf>=3.8.0 in /usr/local/lib/python3.7/dist-packages (from tensorflow==2.1.0) (3.12.4)\n",
            "Requirement already satisfied: astor>=0.6.0 in /usr/local/lib/python3.7/dist-packages (from tensorflow==2.1.0) (0.8.1)\n",
            "Requirement already satisfied: google-pasta>=0.1.6 in /usr/local/lib/python3.7/dist-packages (from tensorflow==2.1.0) (0.2.0)\n",
            "Requirement already satisfied: six>=1.12.0 in /usr/local/lib/python3.7/dist-packages (from tensorflow==2.1.0) (1.15.0)\n",
            "Requirement already satisfied: opt-einsum>=2.3.2 in /usr/local/lib/python3.7/dist-packages (from tensorflow==2.1.0) (3.3.0)\n",
            "Collecting keras-applications>=1.0.8\n",
            "\u001b[?25l  Downloading https://files.pythonhosted.org/packages/71/e3/19762fdfc62877ae9102edf6342d71b28fbfd9dea3d2f96a882ce099b03f/Keras_Applications-1.0.8-py3-none-any.whl (50kB)\n",
            "\u001b[K     |████████████████████████████████| 51kB 7.8MB/s \n",
            "\u001b[?25hRequirement already satisfied: numpy<2.0,>=1.16.0 in /usr/local/lib/python3.7/dist-packages (from tensorflow==2.1.0) (1.19.5)\n",
            "Requirement already satisfied: wrapt>=1.11.1 in /usr/local/lib/python3.7/dist-packages (from tensorflow==2.1.0) (1.12.1)\n",
            "Requirement already satisfied: scipy==1.4.1; python_version >= \"3\" in /usr/local/lib/python3.7/dist-packages (from tensorflow==2.1.0) (1.4.1)\n",
            "Requirement already satisfied: termcolor>=1.1.0 in /usr/local/lib/python3.7/dist-packages (from tensorflow==2.1.0) (1.1.0)\n",
            "Collecting gast==0.2.2\n",
            "  Downloading https://files.pythonhosted.org/packages/4e/35/11749bf99b2d4e3cceb4d55ca22590b0d7c2c62b9de38ac4a4a7f4687421/gast-0.2.2.tar.gz\n",
            "Requirement already satisfied: wheel>=0.26; python_version >= \"3\" in /usr/local/lib/python3.7/dist-packages (from tensorflow==2.1.0) (0.36.2)\n",
            "Requirement already satisfied: keras-preprocessing>=1.1.0 in /usr/local/lib/python3.7/dist-packages (from tensorflow==2.1.0) (1.1.2)\n",
            "Collecting tensorboard<2.2.0,>=2.1.0\n",
            "\u001b[?25l  Downloading https://files.pythonhosted.org/packages/d9/41/bbf49b61370e4f4d245d4c6051dfb6db80cec672605c91b1652ac8cc3d38/tensorboard-2.1.1-py3-none-any.whl (3.8MB)\n",
            "\u001b[K     |████████████████████████████████| 3.9MB 43.5MB/s \n",
            "\u001b[?25hRequirement already satisfied: grpcio>=1.8.6 in /usr/local/lib/python3.7/dist-packages (from tensorflow==2.1.0) (1.32.0)\n",
            "Requirement already satisfied: absl-py>=0.7.0 in /usr/local/lib/python3.7/dist-packages (from tensorflow==2.1.0) (0.12.0)\n",
            "Requirement already satisfied: setuptools in /usr/local/lib/python3.7/dist-packages (from protobuf>=3.8.0->tensorflow==2.1.0) (54.2.0)\n",
            "Requirement already satisfied: h5py in /usr/local/lib/python3.7/dist-packages (from keras-applications>=1.0.8->tensorflow==2.1.0) (2.10.0)\n",
            "Requirement already satisfied: markdown>=2.6.8 in /usr/local/lib/python3.7/dist-packages (from tensorboard<2.2.0,>=2.1.0->tensorflow==2.1.0) (3.3.4)\n",
            "Requirement already satisfied: google-auth<2,>=1.6.3 in /usr/local/lib/python3.7/dist-packages (from tensorboard<2.2.0,>=2.1.0->tensorflow==2.1.0) (1.28.1)\n",
            "Requirement already satisfied: requests<3,>=2.21.0 in /usr/local/lib/python3.7/dist-packages (from tensorboard<2.2.0,>=2.1.0->tensorflow==2.1.0) (2.23.0)\n",
            "Requirement already satisfied: werkzeug>=0.11.15 in /usr/local/lib/python3.7/dist-packages (from tensorboard<2.2.0,>=2.1.0->tensorflow==2.1.0) (1.0.1)\n",
            "Requirement already satisfied: google-auth-oauthlib<0.5,>=0.4.1 in /usr/local/lib/python3.7/dist-packages (from tensorboard<2.2.0,>=2.1.0->tensorflow==2.1.0) (0.4.4)\n",
            "Requirement already satisfied: importlib-metadata; python_version < \"3.8\" in /usr/local/lib/python3.7/dist-packages (from markdown>=2.6.8->tensorboard<2.2.0,>=2.1.0->tensorflow==2.1.0) (3.10.0)\n",
            "Requirement already satisfied: pyasn1-modules>=0.2.1 in /usr/local/lib/python3.7/dist-packages (from google-auth<2,>=1.6.3->tensorboard<2.2.0,>=2.1.0->tensorflow==2.1.0) (0.2.8)\n",
            "Requirement already satisfied: cachetools<5.0,>=2.0.0 in /usr/local/lib/python3.7/dist-packages (from google-auth<2,>=1.6.3->tensorboard<2.2.0,>=2.1.0->tensorflow==2.1.0) (4.2.1)\n",
            "Requirement already satisfied: rsa<5,>=3.1.4; python_version >= \"3.6\" in /usr/local/lib/python3.7/dist-packages (from google-auth<2,>=1.6.3->tensorboard<2.2.0,>=2.1.0->tensorflow==2.1.0) (4.7.2)\n",
            "Requirement already satisfied: idna<3,>=2.5 in /usr/local/lib/python3.7/dist-packages (from requests<3,>=2.21.0->tensorboard<2.2.0,>=2.1.0->tensorflow==2.1.0) (2.10)\n",
            "Requirement already satisfied: urllib3!=1.25.0,!=1.25.1,<1.26,>=1.21.1 in /usr/local/lib/python3.7/dist-packages (from requests<3,>=2.21.0->tensorboard<2.2.0,>=2.1.0->tensorflow==2.1.0) (1.24.3)\n",
            "Requirement already satisfied: certifi>=2017.4.17 in /usr/local/lib/python3.7/dist-packages (from requests<3,>=2.21.0->tensorboard<2.2.0,>=2.1.0->tensorflow==2.1.0) (2020.12.5)\n",
            "Requirement already satisfied: chardet<4,>=3.0.2 in /usr/local/lib/python3.7/dist-packages (from requests<3,>=2.21.0->tensorboard<2.2.0,>=2.1.0->tensorflow==2.1.0) (3.0.4)\n",
            "Requirement already satisfied: requests-oauthlib>=0.7.0 in /usr/local/lib/python3.7/dist-packages (from google-auth-oauthlib<0.5,>=0.4.1->tensorboard<2.2.0,>=2.1.0->tensorflow==2.1.0) (1.3.0)\n",
            "Requirement already satisfied: zipp>=0.5 in /usr/local/lib/python3.7/dist-packages (from importlib-metadata; python_version < \"3.8\"->markdown>=2.6.8->tensorboard<2.2.0,>=2.1.0->tensorflow==2.1.0) (3.4.1)\n",
            "Requirement already satisfied: typing-extensions>=3.6.4; python_version < \"3.8\" in /usr/local/lib/python3.7/dist-packages (from importlib-metadata; python_version < \"3.8\"->markdown>=2.6.8->tensorboard<2.2.0,>=2.1.0->tensorflow==2.1.0) (3.7.4.3)\n",
            "Requirement already satisfied: pyasn1<0.5.0,>=0.4.6 in /usr/local/lib/python3.7/dist-packages (from pyasn1-modules>=0.2.1->google-auth<2,>=1.6.3->tensorboard<2.2.0,>=2.1.0->tensorflow==2.1.0) (0.4.8)\n",
            "Requirement already satisfied: oauthlib>=3.0.0 in /usr/local/lib/python3.7/dist-packages (from requests-oauthlib>=0.7.0->google-auth-oauthlib<0.5,>=0.4.1->tensorboard<2.2.0,>=2.1.0->tensorflow==2.1.0) (3.1.0)\n",
            "Building wheels for collected packages: gast\n",
            "  Building wheel for gast (setup.py) ... \u001b[?25l\u001b[?25hdone\n",
            "  Created wheel for gast: filename=gast-0.2.2-cp37-none-any.whl size=7540 sha256=c3baac2430052392a80b77657c175055d299bffdf32c6878666dd737606c6493\n",
            "  Stored in directory: /root/.cache/pip/wheels/5c/2e/7e/a1d4d4fcebe6c381f378ce7743a3ced3699feb89bcfbdadadd\n",
            "Successfully built gast\n",
            "\u001b[31mERROR: tensorflow-probability 0.12.1 has requirement gast>=0.3.2, but you'll have gast 0.2.2 which is incompatible.\u001b[0m\n",
            "Installing collected packages: tensorflow-estimator, keras-applications, gast, tensorboard, tensorflow\n",
            "  Found existing installation: tensorflow-estimator 2.4.0\n",
            "    Uninstalling tensorflow-estimator-2.4.0:\n",
            "      Successfully uninstalled tensorflow-estimator-2.4.0\n",
            "  Found existing installation: gast 0.3.3\n",
            "    Uninstalling gast-0.3.3:\n",
            "      Successfully uninstalled gast-0.3.3\n",
            "  Found existing installation: tensorboard 2.4.1\n",
            "    Uninstalling tensorboard-2.4.1:\n",
            "      Successfully uninstalled tensorboard-2.4.1\n",
            "  Found existing installation: tensorflow 2.4.1\n",
            "    Uninstalling tensorflow-2.4.1:\n",
            "      Successfully uninstalled tensorflow-2.4.1\n",
            "Successfully installed gast-0.2.2 keras-applications-1.0.8 tensorboard-2.1.1 tensorflow-2.1.0 tensorflow-estimator-2.1.0\n"
          ],
          "name": "stdout"
        }
      ]
    },
    {
      "cell_type": "code",
      "metadata": {
        "id": "0k5_fLM9BnRS"
      },
      "source": [
        "from time import time\n",
        "import pandas as pd\n",
        "import numpy as np\n",
        "from gensim.models import KeyedVectors\n",
        "import re\n",
        "from nltk.corpus import stopwords\n",
        "from sklearn.model_selection import train_test_split\n",
        "from sklearn.model_selection import StratifiedShuffleSplit\n",
        "import matplotlib.pyplot as plt\n",
        "import seaborn as sns\n",
        "import nltk\n",
        "from nltk import word_tokenize\n",
        "import itertools\n",
        "import datetime\n",
        "\n",
        "from tensorflow.keras.callbacks import ModelCheckpoint\n",
        "from tensorflow.keras.preprocessing.text import Tokenizer\n",
        "from tensorflow.keras.preprocessing.sequence import pad_sequences\n",
        "# from tensorflow.keras.layers import Dense, Input, GlobalMaxPooling1D,GlobalAveragePooling1D\n",
        "# from tensorflow.keras.layers import LSTM, Embedding ,Lambda ,Input,Bidirectional,Dropout,Conv1D,Attention,Concatenate,TimeDistributed, SpatialDropout1D\n",
        "from tensorflow.keras.layers import LSTM, Embedding,Input,Bidirectional,Dropout,TimeDistributed, SpatialDropout1D,Dense\n",
        "from tensorflow.keras.models import Model\n",
        "from tensorflow.keras import backend as K\n",
        "from tensorflow.keras.optimizers import Adadelta,Adam\n",
        "from tensorflow.python.keras.layers import Layer\n",
        "import tensorflow as tf"
      ],
      "execution_count": null,
      "outputs": []
    },
    {
      "cell_type": "code",
      "metadata": {
        "id": "MR0Zl5P2KBJ6",
        "colab": {
          "base_uri": "https://localhost:8080/",
          "height": 35
        },
        "outputId": "75dc18c5-1902-46cd-d34c-883bfe6cd207"
      },
      "source": [
        "tf.__version__"
      ],
      "execution_count": null,
      "outputs": [
        {
          "output_type": "execute_result",
          "data": {
            "application/vnd.google.colaboratory.intrinsic+json": {
              "type": "string"
            },
            "text/plain": [
              "'2.1.0'"
            ]
          },
          "metadata": {
            "tags": []
          },
          "execution_count": 4
        }
      ]
    },
    {
      "cell_type": "code",
      "metadata": {
        "id": "FNTMUsueFNqb"
      },
      "source": [
        "# nltk.download('punkt')"
      ],
      "execution_count": null,
      "outputs": []
    },
    {
      "cell_type": "code",
      "metadata": {
        "id": "hjF5oQRiB5dy"
      },
      "source": [
        "# import nltk\n",
        "# nltk.download('stopwords')"
      ],
      "execution_count": null,
      "outputs": []
    },
    {
      "cell_type": "markdown",
      "metadata": {
        "id": "4N_AW6lMbB5N"
      },
      "source": [
        "### Load NER Dataset"
      ]
    },
    {
      "cell_type": "code",
      "metadata": {
        "id": "mCKmz4SAbI_m",
        "colab": {
          "base_uri": "https://localhost:8080/",
          "height": 195
        },
        "outputId": "8bbdf12e-3ec7-45a8-e5ac-28a2a9beb094"
      },
      "source": [
        "fulldata = pd.read_excel(\"/content/drive/My Drive/Food_NER/generalized_review_tokens_11_tagged_v3.xlsx\",index_col=None,dtype=str)\n",
        "fulldata.head()"
      ],
      "execution_count": null,
      "outputs": [
        {
          "output_type": "execute_result",
          "data": {
            "text/html": [
              "<div>\n",
              "<style scoped>\n",
              "    .dataframe tbody tr th:only-of-type {\n",
              "        vertical-align: middle;\n",
              "    }\n",
              "\n",
              "    .dataframe tbody tr th {\n",
              "        vertical-align: top;\n",
              "    }\n",
              "\n",
              "    .dataframe thead th {\n",
              "        text-align: right;\n",
              "    }\n",
              "</style>\n",
              "<table border=\"1\" class=\"dataframe\">\n",
              "  <thead>\n",
              "    <tr style=\"text-align: right;\">\n",
              "      <th></th>\n",
              "      <th>Unnamed: 0</th>\n",
              "      <th>review no</th>\n",
              "      <th>restaurant</th>\n",
              "      <th>sentence no</th>\n",
              "      <th>words</th>\n",
              "      <th>algo_tag</th>\n",
              "      <th>Corrected</th>\n",
              "    </tr>\n",
              "  </thead>\n",
              "  <tbody>\n",
              "    <tr>\n",
              "      <th>0</th>\n",
              "      <td>0</td>\n",
              "      <td>0</td>\n",
              "      <td>1441 Pizzeria</td>\n",
              "      <td>0</td>\n",
              "      <td>I</td>\n",
              "      <td>O</td>\n",
              "      <td>NaN</td>\n",
              "    </tr>\n",
              "    <tr>\n",
              "      <th>1</th>\n",
              "      <td>1</td>\n",
              "      <td>0</td>\n",
              "      <td>1441 Pizzeria</td>\n",
              "      <td>0</td>\n",
              "      <td>visited</td>\n",
              "      <td>O</td>\n",
              "      <td>NaN</td>\n",
              "    </tr>\n",
              "    <tr>\n",
              "      <th>2</th>\n",
              "      <td>2</td>\n",
              "      <td>0</td>\n",
              "      <td>1441 Pizzeria</td>\n",
              "      <td>0</td>\n",
              "      <td>the</td>\n",
              "      <td>O</td>\n",
              "      <td>NaN</td>\n",
              "    </tr>\n",
              "    <tr>\n",
              "      <th>3</th>\n",
              "      <td>3</td>\n",
              "      <td>0</td>\n",
              "      <td>1441 Pizzeria</td>\n",
              "      <td>0</td>\n",
              "      <td>Fort</td>\n",
              "      <td>O</td>\n",
              "      <td>NaN</td>\n",
              "    </tr>\n",
              "    <tr>\n",
              "      <th>4</th>\n",
              "      <td>4</td>\n",
              "      <td>0</td>\n",
              "      <td>1441 Pizzeria</td>\n",
              "      <td>0</td>\n",
              "      <td>outlet</td>\n",
              "      <td>O</td>\n",
              "      <td>NaN</td>\n",
              "    </tr>\n",
              "  </tbody>\n",
              "</table>\n",
              "</div>"
            ],
            "text/plain": [
              "  Unnamed: 0 review no     restaurant sentence no    words algo_tag Corrected\n",
              "0          0         0  1441 Pizzeria           0        I        O       NaN\n",
              "1          1         0  1441 Pizzeria           0  visited        O       NaN\n",
              "2          2         0  1441 Pizzeria           0      the        O       NaN\n",
              "3          3         0  1441 Pizzeria           0     Fort        O       NaN\n",
              "4          4         0  1441 Pizzeria           0   outlet        O       NaN"
            ]
          },
          "metadata": {
            "tags": []
          },
          "execution_count": 7
        }
      ]
    },
    {
      "cell_type": "code",
      "metadata": {
        "id": "rE909lKwrFBn",
        "colab": {
          "base_uri": "https://localhost:8080/",
          "height": 343
        },
        "outputId": "397f0f4a-b36c-4b6a-91ff-8a5d816dacae"
      },
      "source": [
        "fulldata = fulldata.drop(['Unnamed: 0','Corrected'],axis=1)\n",
        "fulldata =fulldata[fulldata.words.isnull()==False]\n",
        "fulldata.columns=['Review Number','restaurant','sentence no','words','tag']\n",
        "fulldata =fulldata[fulldata.tag.isnull()==False]\n",
        "data = fulldata.copy()\n",
        "data.head(10)"
      ],
      "execution_count": null,
      "outputs": [
        {
          "output_type": "execute_result",
          "data": {
            "text/html": [
              "<div>\n",
              "<style scoped>\n",
              "    .dataframe tbody tr th:only-of-type {\n",
              "        vertical-align: middle;\n",
              "    }\n",
              "\n",
              "    .dataframe tbody tr th {\n",
              "        vertical-align: top;\n",
              "    }\n",
              "\n",
              "    .dataframe thead th {\n",
              "        text-align: right;\n",
              "    }\n",
              "</style>\n",
              "<table border=\"1\" class=\"dataframe\">\n",
              "  <thead>\n",
              "    <tr style=\"text-align: right;\">\n",
              "      <th></th>\n",
              "      <th>Review Number</th>\n",
              "      <th>restaurant</th>\n",
              "      <th>sentence no</th>\n",
              "      <th>words</th>\n",
              "      <th>tag</th>\n",
              "    </tr>\n",
              "  </thead>\n",
              "  <tbody>\n",
              "    <tr>\n",
              "      <th>0</th>\n",
              "      <td>0</td>\n",
              "      <td>1441 Pizzeria</td>\n",
              "      <td>0</td>\n",
              "      <td>I</td>\n",
              "      <td>O</td>\n",
              "    </tr>\n",
              "    <tr>\n",
              "      <th>1</th>\n",
              "      <td>0</td>\n",
              "      <td>1441 Pizzeria</td>\n",
              "      <td>0</td>\n",
              "      <td>visited</td>\n",
              "      <td>O</td>\n",
              "    </tr>\n",
              "    <tr>\n",
              "      <th>2</th>\n",
              "      <td>0</td>\n",
              "      <td>1441 Pizzeria</td>\n",
              "      <td>0</td>\n",
              "      <td>the</td>\n",
              "      <td>O</td>\n",
              "    </tr>\n",
              "    <tr>\n",
              "      <th>3</th>\n",
              "      <td>0</td>\n",
              "      <td>1441 Pizzeria</td>\n",
              "      <td>0</td>\n",
              "      <td>Fort</td>\n",
              "      <td>O</td>\n",
              "    </tr>\n",
              "    <tr>\n",
              "      <th>4</th>\n",
              "      <td>0</td>\n",
              "      <td>1441 Pizzeria</td>\n",
              "      <td>0</td>\n",
              "      <td>outlet</td>\n",
              "      <td>O</td>\n",
              "    </tr>\n",
              "    <tr>\n",
              "      <th>5</th>\n",
              "      <td>0</td>\n",
              "      <td>1441 Pizzeria</td>\n",
              "      <td>0</td>\n",
              "      <td>and</td>\n",
              "      <td>O</td>\n",
              "    </tr>\n",
              "    <tr>\n",
              "      <th>6</th>\n",
              "      <td>0</td>\n",
              "      <td>1441 Pizzeria</td>\n",
              "      <td>0</td>\n",
              "      <td>I</td>\n",
              "      <td>O</td>\n",
              "    </tr>\n",
              "    <tr>\n",
              "      <th>7</th>\n",
              "      <td>0</td>\n",
              "      <td>1441 Pizzeria</td>\n",
              "      <td>0</td>\n",
              "      <td>wish</td>\n",
              "      <td>O</td>\n",
              "    </tr>\n",
              "    <tr>\n",
              "      <th>8</th>\n",
              "      <td>0</td>\n",
              "      <td>1441 Pizzeria</td>\n",
              "      <td>0</td>\n",
              "      <td>to</td>\n",
              "      <td>O</td>\n",
              "    </tr>\n",
              "    <tr>\n",
              "      <th>9</th>\n",
              "      <td>0</td>\n",
              "      <td>1441 Pizzeria</td>\n",
              "      <td>0</td>\n",
              "      <td>keep</td>\n",
              "      <td>O</td>\n",
              "    </tr>\n",
              "  </tbody>\n",
              "</table>\n",
              "</div>"
            ],
            "text/plain": [
              "  Review Number     restaurant sentence no    words tag\n",
              "0             0  1441 Pizzeria           0        I   O\n",
              "1             0  1441 Pizzeria           0  visited   O\n",
              "2             0  1441 Pizzeria           0      the   O\n",
              "3             0  1441 Pizzeria           0     Fort   O\n",
              "4             0  1441 Pizzeria           0   outlet   O\n",
              "5             0  1441 Pizzeria           0      and   O\n",
              "6             0  1441 Pizzeria           0        I   O\n",
              "7             0  1441 Pizzeria           0     wish   O\n",
              "8             0  1441 Pizzeria           0       to   O\n",
              "9             0  1441 Pizzeria           0     keep   O"
            ]
          },
          "metadata": {
            "tags": []
          },
          "execution_count": 8
        }
      ]
    },
    {
      "cell_type": "markdown",
      "metadata": {
        "id": "SaHOW7ToSGRl"
      },
      "source": [
        "#### Preprocessing"
      ]
    },
    {
      "cell_type": "code",
      "metadata": {
        "id": "Df_IrZgKH2Od"
      },
      "source": [
        "# stops =stopwords.words('english')"
      ],
      "execution_count": null,
      "outputs": []
    },
    {
      "cell_type": "code",
      "metadata": {
        "id": "RwUpRP5A1zyk"
      },
      "source": [
        "# def remove_stop(word):\n",
        "#   if word in stops:\n",
        "#     return 'STOPWORD'\n",
        "#   return word"
      ],
      "execution_count": null,
      "outputs": []
    },
    {
      "cell_type": "code",
      "metadata": {
        "id": "kyYr8ObY1jWO"
      },
      "source": [
        "# data[\"words\"] = data.words.apply(remove_stop)\n",
        "# print(\"Before removing stopwords \",data.shape)\n",
        "# data =data[data.words!='STOPWORD']\n",
        "# print(\"After removing stopwords \",data.shape)"
      ],
      "execution_count": null,
      "outputs": []
    },
    {
      "cell_type": "code",
      "metadata": {
        "id": "uNsRgqtcI1Jg",
        "colab": {
          "base_uri": "https://localhost:8080/",
          "height": 195
        },
        "outputId": "112b9853-85b4-445d-a5bf-f174c610c205"
      },
      "source": [
        "data.tail(5)"
      ],
      "execution_count": null,
      "outputs": [
        {
          "output_type": "execute_result",
          "data": {
            "text/html": [
              "<div>\n",
              "<style scoped>\n",
              "    .dataframe tbody tr th:only-of-type {\n",
              "        vertical-align: middle;\n",
              "    }\n",
              "\n",
              "    .dataframe tbody tr th {\n",
              "        vertical-align: top;\n",
              "    }\n",
              "\n",
              "    .dataframe thead th {\n",
              "        text-align: right;\n",
              "    }\n",
              "</style>\n",
              "<table border=\"1\" class=\"dataframe\">\n",
              "  <thead>\n",
              "    <tr style=\"text-align: right;\">\n",
              "      <th></th>\n",
              "      <th>Review Number</th>\n",
              "      <th>restaurant</th>\n",
              "      <th>sentence no</th>\n",
              "      <th>words</th>\n",
              "      <th>tag</th>\n",
              "    </tr>\n",
              "  </thead>\n",
              "  <tbody>\n",
              "    <tr>\n",
              "      <th>86425</th>\n",
              "      <td>1099</td>\n",
              "      <td>Amar Juice Centre</td>\n",
              "      <td>2</td>\n",
              "      <td>at</td>\n",
              "      <td>O</td>\n",
              "    </tr>\n",
              "    <tr>\n",
              "      <th>86426</th>\n",
              "      <td>1099</td>\n",
              "      <td>Amar Juice Centre</td>\n",
              "      <td>2</td>\n",
              "      <td>night</td>\n",
              "      <td>O</td>\n",
              "    </tr>\n",
              "    <tr>\n",
              "      <th>86427</th>\n",
              "      <td>1099</td>\n",
              "      <td>Amar Juice Centre</td>\n",
              "      <td>2</td>\n",
              "      <td>as</td>\n",
              "      <td>O</td>\n",
              "    </tr>\n",
              "    <tr>\n",
              "      <th>86428</th>\n",
              "      <td>1099</td>\n",
              "      <td>Amar Juice Centre</td>\n",
              "      <td>2</td>\n",
              "      <td>well</td>\n",
              "      <td>O</td>\n",
              "    </tr>\n",
              "    <tr>\n",
              "      <th>86429</th>\n",
              "      <td>1099</td>\n",
              "      <td>Amar Juice Centre</td>\n",
              "      <td>2</td>\n",
              "      <td>.</td>\n",
              "      <td>O</td>\n",
              "    </tr>\n",
              "  </tbody>\n",
              "</table>\n",
              "</div>"
            ],
            "text/plain": [
              "      Review Number         restaurant sentence no  words tag\n",
              "86425          1099  Amar Juice Centre           2     at   O\n",
              "86426          1099  Amar Juice Centre           2  night   O\n",
              "86427          1099  Amar Juice Centre           2     as   O\n",
              "86428          1099  Amar Juice Centre           2   well   O\n",
              "86429          1099  Amar Juice Centre           2      .   O"
            ]
          },
          "metadata": {
            "tags": []
          },
          "execution_count": 12
        }
      ]
    },
    {
      "cell_type": "code",
      "metadata": {
        "id": "riOztP-8NXHT",
        "colab": {
          "base_uri": "https://localhost:8080/"
        },
        "outputId": "191e740d-bc87-44cf-f40a-70c219f8bac2"
      },
      "source": [
        "print(\"Unique words in corpus:\", data['words'].nunique())\n",
        "print(\"Unique tags in corpus:\", data['tag'].nunique())  \n",
        "words = list(set(data[\"words\"].values))\n",
        "tags = list(set(data[\"tag\"].values))"
      ],
      "execution_count": null,
      "outputs": [
        {
          "output_type": "stream",
          "text": [
            "Unique words in corpus: 7411\n",
            "Unique tags in corpus: 2\n"
          ],
          "name": "stdout"
        }
      ]
    },
    {
      "cell_type": "markdown",
      "metadata": {
        "id": "M9D9JEzUbdnS"
      },
      "source": [
        "####  Retrieve Sentences and Corresponding Tags"
      ]
    },
    {
      "cell_type": "code",
      "metadata": {
        "id": "VdJst_g5NYY_"
      },
      "source": [
        "class SentenceGetter(object):\n",
        "    def __init__(self, data):\n",
        "        self.n_sent = 1\n",
        "        self.data = data\n",
        "        self.empty = False\n",
        "        agg_func = lambda s: [(w, t) for w,t in zip(s[\"words\"].values.tolist(),s[\"tag\"].values.tolist())]\n",
        "        self.grouped = self.data.groupby(['Review Number','sentence no']).apply(agg_func)\n",
        "        self.sentences = [s for s in self.grouped]"
      ],
      "execution_count": null,
      "outputs": []
    },
    {
      "cell_type": "code",
      "metadata": {
        "id": "nMUQLppspkPj"
      },
      "source": [
        "getter = SentenceGetter(data)\n",
        "sents = getter.sentences"
      ],
      "execution_count": null,
      "outputs": []
    },
    {
      "cell_type": "code",
      "metadata": {
        "id": "ZP7597kZ6nlk",
        "colab": {
          "base_uri": "https://localhost:8080/"
        },
        "outputId": "e4bd8e81-b13a-4bc1-a3b6-05613eca6b92"
      },
      "source": [
        "len(data)"
      ],
      "execution_count": null,
      "outputs": [
        {
          "output_type": "execute_result",
          "data": {
            "text/plain": [
              "86427"
            ]
          },
          "metadata": {
            "tags": []
          },
          "execution_count": 16
        }
      ]
    },
    {
      "cell_type": "code",
      "metadata": {
        "id": "Y6sX1ChvFf2H"
      },
      "source": [
        "sentences =[' '.join([w[0] for w in sentence]) for sentence in sents ]\n",
        "tags =[' '.join([w[1] for w in sentence]) for sentence in sents ]"
      ],
      "execution_count": null,
      "outputs": []
    },
    {
      "cell_type": "markdown",
      "metadata": {
        "id": "IJDUa69EFNfl"
      },
      "source": [
        "##### Tokenize and Pad"
      ]
    },
    {
      "cell_type": "code",
      "metadata": {
        "id": "uSvHZ0-qGjaf"
      },
      "source": [
        "corpus = sentences"
      ],
      "execution_count": null,
      "outputs": []
    },
    {
      "cell_type": "code",
      "metadata": {
        "id": "7L1Mwu44OYk6",
        "colab": {
          "base_uri": "https://localhost:8080/"
        },
        "outputId": "3d5d7ebd-5f71-4fbb-dfff-4ab08ad6a3f5"
      },
      "source": [
        "corpus[10:20]"
      ],
      "execution_count": null,
      "outputs": [
        {
          "output_type": "execute_result",
          "data": {
            "text/plain": [
              "['4- Make your own gourmet pizza ( toppings chicken sausages , meat balls , pepperoni )',\n",
              " '5-',\n",
              " 'Garlic bread sticks - nice and crispy bread making it one of a kind',\n",
              " '6- Potato wedges- totally loved the dip along with the wedges ENDPAD',\n",
              " '7-',\n",
              " 'Nutella dough balls - on',\n",
              " 'my ca nt express how amazing this dessert is with pizza dough based balls filled with nutella and then baked making it super amazing .',\n",
              " 'totally loved the experience here do visit and love your pizzas',\n",
              " 'The place is very traditionally known for its handcrafted pizza dough and the sauces on the pizza .',\n",
              " 'They have a very special segment where you can actually go ahead and made your own pizza from the scratch with your own choice of toppings and sauces .']"
            ]
          },
          "metadata": {
            "tags": []
          },
          "execution_count": 19
        }
      ]
    },
    {
      "cell_type": "code",
      "metadata": {
        "id": "4rUphRwMGwmC"
      },
      "source": [
        "tokenizer = Tokenizer(num_words=2**13,lower=True,oov_token='<unk>',filters='') ## 6k words in corpus\n",
        "tokenizer.fit_on_texts(corpus)\n",
        "tags = list(set(data[\"tag\"].values))\n",
        "tag2idx = {t: i for i, t in enumerate(tags)}\n",
        "tag2idx['PAD']=len(tag2idx.keys())\n",
        "num_tags = len(tag2idx.keys())\n",
        "idx2tag = {v:k for k,v in tag2idx.items()}"
      ],
      "execution_count": null,
      "outputs": []
    },
    {
      "cell_type": "code",
      "metadata": {
        "id": "CjrLrRQ-f8lZ"
      },
      "source": [
        "# import pickle\n",
        "# pickle.dump((tag2idx,idx2tag),open(\"/content/drive/My Drive/Food_NER/tag2idx_idx2tag_w2v_final2\",'wb'))"
      ],
      "execution_count": null,
      "outputs": []
    },
    {
      "cell_type": "code",
      "metadata": {
        "id": "GKfyHSL3Z91l"
      },
      "source": [
        "# # import pickle\n",
        "# pickle.dump(tokenizer,open(\"/content/drive/My Drive/Food_NER/tokenizer_w2v_final2\",'wb'))"
      ],
      "execution_count": null,
      "outputs": []
    },
    {
      "cell_type": "code",
      "metadata": {
        "id": "4_s1SNr7YDvm"
      },
      "source": [
        "import pickle\n",
        "(tag2idx,idx2tag)= pickle.load(open(\"/content/drive/My Drive/Food_NER/tag2idx_idx2tag_w2v_final2\",'rb'))"
      ],
      "execution_count": null,
      "outputs": []
    },
    {
      "cell_type": "code",
      "metadata": {
        "id": "xCUn_veKH-Xo"
      },
      "source": [
        "from tensorflow.keras.preprocessing.sequence import pad_sequences\n",
        "\n",
        "max_len = 30\n",
        "\n",
        "X = tokenizer.texts_to_sequences(corpus)\n",
        "X = pad_sequences(maxlen=max_len, sequences=X, padding=\"post\")\n",
        "\n",
        "y = [[tag2idx[w[1]] for w in s] for s in sents]\n",
        "y = pad_sequences(maxlen=max_len, sequences=y, padding=\"post\", value=tag2idx['PAD'])"
      ],
      "execution_count": null,
      "outputs": []
    },
    {
      "cell_type": "code",
      "metadata": {
        "id": "Qy2kdBaAIjv4",
        "colab": {
          "base_uri": "https://localhost:8080/"
        },
        "outputId": "abe71d41-4447-4049-ec14-e0196df317ba"
      },
      "source": [
        "print(len(X))\n",
        "print(len(y))"
      ],
      "execution_count": null,
      "outputs": [
        {
          "output_type": "stream",
          "text": [
            "7172\n",
            "7172\n"
          ],
          "name": "stdout"
        }
      ]
    },
    {
      "cell_type": "code",
      "metadata": {
        "id": "5uAu-kg5K_0A",
        "colab": {
          "base_uri": "https://localhost:8080/"
        },
        "outputId": "e682a6ff-10f7-4fe6-d2af-be4d88417bd7"
      },
      "source": [
        "len(tokenizer.word_index)"
      ],
      "execution_count": null,
      "outputs": [
        {
          "output_type": "execute_result",
          "data": {
            "text/plain": [
              "6075"
            ]
          },
          "metadata": {
            "tags": []
          },
          "execution_count": 26
        }
      ]
    },
    {
      "cell_type": "code",
      "metadata": {
        "id": "reVWh1CUNsiw",
        "colab": {
          "base_uri": "https://localhost:8080/"
        },
        "outputId": "65e028ca-a15f-4246-a9f7-40f3145faf19"
      },
      "source": [
        "tokenizer.word_index['the']"
      ],
      "execution_count": null,
      "outputs": [
        {
          "output_type": "execute_result",
          "data": {
            "text/plain": [
              "3"
            ]
          },
          "metadata": {
            "tags": []
          },
          "execution_count": 27
        }
      ]
    },
    {
      "cell_type": "markdown",
      "metadata": {
        "id": "VnHFzVTkyuMi"
      },
      "source": [
        "#### Word2Vec Embedding"
      ]
    },
    {
      "cell_type": "code",
      "metadata": {
        "id": "5LoWumauy7D-"
      },
      "source": [
        "from gensim.models import KeyedVectors\n",
        "\n",
        "wv_embeddings = KeyedVectors.load_word2vec_format('/content/drive/My Drive/Gupshup/GoogleNews-vectors-negative300.bin.gz',binary=True)"
      ],
      "execution_count": null,
      "outputs": []
    },
    {
      "cell_type": "code",
      "metadata": {
        "id": "9s8rm-O9ndrs",
        "colab": {
          "base_uri": "https://localhost:8080/"
        },
        "outputId": "9ead8472-587e-47cd-b7c8-d58202665266"
      },
      "source": [
        "wv_embeddings.wv.most_similar('chicken')"
      ],
      "execution_count": null,
      "outputs": [
        {
          "output_type": "stream",
          "text": [
            "/usr/local/lib/python3.7/dist-packages/ipykernel_launcher.py:1: DeprecationWarning: Call to deprecated `wv` (Attribute will be removed in 4.0.0, use self instead).\n",
            "  \"\"\"Entry point for launching an IPython kernel.\n"
          ],
          "name": "stderr"
        },
        {
          "output_type": "execute_result",
          "data": {
            "text/plain": [
              "[('meat', 0.6799130439758301),\n",
              " ('Chicken', 0.6726200580596924),\n",
              " ('chickens', 0.6597973108291626),\n",
              " ('poultry', 0.6559159755706787),\n",
              " ('pork', 0.6541997194290161),\n",
              " ('grilled_herbed', 0.6516273021697998),\n",
              " ('pasta_fazool', 0.6511082649230957),\n",
              " ('boneless_chicken', 0.6347483396530151),\n",
              " ('turkey', 0.6282520294189453),\n",
              " ('rotisserie_roasted', 0.6275516152381897)]"
            ]
          },
          "metadata": {
            "tags": []
          },
          "execution_count": 29
        }
      ]
    },
    {
      "cell_type": "code",
      "metadata": {
        "id": "N7XgT6voyvlD",
        "colab": {
          "base_uri": "https://localhost:8080/"
        },
        "outputId": "0d63dcd4-a8dc-427d-b5df-e86b498f9ea7"
      },
      "source": [
        "word_index =tokenizer.word_index\n",
        "num_words = len(tokenizer.word_index)\n",
        "embedding_matrix= np.zeros((num_words+1,300)) ## 0 is reserved for padding token\n",
        "out_of_vocab_words =[]\n",
        "for word,i in word_index.items():\n",
        "  if word in wv_embeddings.vocab:\n",
        "    #print(i,word)\n",
        "    embedding_matrix[i]=wv_embeddings.word_vec(word)\n",
        "  else: \n",
        "    out_of_vocab_words.append(word)\n",
        "print('Null word embeddings: %d' % np.sum(np.sum(embedding_matrix, axis=1) == 0))"
      ],
      "execution_count": null,
      "outputs": [
        {
          "output_type": "stream",
          "text": [
            "Null word embeddings: 1200\n"
          ],
          "name": "stdout"
        }
      ]
    },
    {
      "cell_type": "code",
      "metadata": {
        "id": "Li98Hyl-_pkQ",
        "colab": {
          "base_uri": "https://localhost:8080/"
        },
        "outputId": "dd9a5a8f-a601-4048-b302-e83b812175df"
      },
      "source": [
        "print(\"Total Word embeddings available\",len(wv_embeddings.vocab))\n",
        "print(\"Tokenizer words (OUR VOCAB)\",num_words)\n",
        "print(\"Vocab Embedding unused (no embeddings found)\",len(out_of_vocab_words))\n",
        "print(\"Vocab Embeddings used (w2v embeddings found)\",num_words-len(out_of_vocab_words))\n",
        "embedding_matrix.shape"
      ],
      "execution_count": null,
      "outputs": [
        {
          "output_type": "stream",
          "text": [
            "Total Word embeddings available 3000000\n",
            "Tokenizer words (OUR VOCAB) 6075\n",
            "Vocab Embedding unused (no embeddings found) 1199\n",
            "Vocab Embeddings used (w2v embeddings found) 4876\n"
          ],
          "name": "stdout"
        },
        {
          "output_type": "execute_result",
          "data": {
            "text/plain": [
              "(6076, 300)"
            ]
          },
          "metadata": {
            "tags": []
          },
          "execution_count": 31
        }
      ]
    },
    {
      "cell_type": "code",
      "metadata": {
        "id": "oXjfnzSPryFS",
        "colab": {
          "base_uri": "https://localhost:8080/"
        },
        "outputId": "8ec25a2a-4c33-40af-a763-b619208c680c"
      },
      "source": [
        "print(out_of_vocab_words)\n",
        "del wv_embeddings"
      ],
      "execution_count": null,
      "outputs": [
        {
          "output_type": "stream",
          "text": [
            "['<unk>', '.', 'and', ',', 'a', 'to', 'endpad', 'of', '!', '-', ':', \"'s\", '...', '..', ')', '(', 'misal', 'prithvi', '’s', 'maharashtrian', 'n’t', '\"', '/', 'elco', '1441', 'juhu', 'colaba', 'shalimar', \"'\", 'bhature', 'favourite', 'mondegar', 'theatre', 'bandra', '–', 'pattice', '4/5', '10', 'ragda', '?', 'mughlai', '20', 'kripa', 'aaswad', '5/5', '15', 'sabudana', 'piyush', 'kothimbir', 'centre', 'dadar', '4.5/5', 'flavour', '30', 'sindhi', ';', 'bhendi', '3/5', '4.5', 'gurukripa', 'pakwan', 'thalipeeth', 'flavours', 'faluda', 'vadi', '100', '😋', 'paav', '😍', 'zomato', 'pavbhaji', 'boondi', '--', 'speciality', 'kharwas', '40', 'bhajji', '👍', '❤', '25', 'andheri', 'patice', 'sakinaka', 'leopold', 'shivaji', '11', '12', '️', 'amritsari', 'mr.', '3.5/5', '📍', 'rabdi', '14', '💃', 'malad', 'pizza-', 'rating:5/5', 'varan', 'bhakri', '|', 'hunan', 'mumbaikar', '.the', '8/10', 'colour', '45', 'nalli', 'cosy', 'bheja', 'colourful', 'bhaaji', '“', '’ve', 'renato', 'schezwan', 'hakka', 'pulav', 'faloodas', '9/10', 'bhurji', 'kulche', '’re', '➡', ':d', '4.7/5', 'cholle', 'moghlai', 'favourites', '2015', 'travelling', 'faloda', 'pakwaan', '🍕', 'ragada', 'maharastrian', 'thalipith', 'flavoured', 'aamras', 'instagram', 'rishi_savani', 'lichi', 'foodblogger', 'mumbaikars', 'prithivi', 'crowdy', '10/10', 'rating-3/5', '-10/10', 'p.s.', 'narayan', 'gautam', 'kokam', 'foodlover', 'uday', '🔰', ':p', '200', '1970', 'reshmi', 'nali', 'lucknowi', 'jafferbhai', 'muglai', 'parel', 'tukda', 'swiggy', 'instafood', 'ragdaa', '300', 'choley', 'vfm', '[', 'yummm', 'poptates', 'draught', 'irani', 'mondy', '50', 'kharvas', 'thalipit', 'aaswaad', 'maharashtrain', 'usal', '—', 'kabab-', 'khatta', '5spice', 'chembur', '4-', '5-', '6-', '7-', '2-', '3-', 'irla', 'travelled', '1000', 'foodporn', 'foodblog', '✨', 'prithvicafe', 'sitaphal', '👌', 'tarun', 'samvedi', 'virar', 'nonveg', 'chaas', 'rating-4/5', 'kitkat', 'food-', 'hegde', 'realise', '6.35', 'foodreviewonline', 'foodaddict', 'mumbaifoodie', '700', 'okayish', 'kulchas', 'frnds', 'welvet', '‘', '’', '🤤', 'rumali', 'salli', 'angara', 'sobo', 'kamla', 'kapsa', 'faalooda', 'nirhari', 'firni', '.we', 'sholay', 'bira', 'ramzan', 'afgani', 'moglai', '1.30', '17', 'i.e.', 'mughali', 'shavarma', 'roti-', 'kebab-', '695', '41', '-ask', '7.30pm', '🏼', 'bhaturechole', 'bhaturey', 'gurukripasion', 'punjabifood', 'northindianfood', 'mumbairestaurants', 'foodsion', 'restaurantreview', 'veghunt', '7.5/10', '7/10', 'sooper', 'samosey', 'savoury', 'samose', 'samoosa', 'evershine', 'chatpata', '’m', '…', 'bhajiya', 'theatres', 'w/', ']', '’d', '’ll', 'samosae', 'ambiance-', '@1441.pizzeria', 'makeyourown', 'sevpuri', 'chatni', 'hasmukh', 'tea-', 'balls-', 'imli', 'krupa', 'paratas', '600', '7.27', 'africano', '7:30', 'restro', 'okk', 'poptats', 'customised', '”', '350', '2019', '1932', '230/-', 'foodgasm', 'co.', 'lemonade-', 'sarbat', 'bhakhri', 'pithla', 'gokhale', 'puranpoli', 'aamba', 'mahatrashrian', 'dalimbi', '35', 'peet', 'customise', 'waran', 'bhalla', 'panipuris', '-a', 'mahim', '3.5', 'brushetta', 'bajji', 'siddhesh', 'chickrn', 'organised', 'roomali', 'tandoored', 'laccha', 'rishisfoodchronicles', 'tripadvisor', 'bundi', 'funtoosh', 'fareed', 'visitinggg', 'bogo', 'wedges-', 'tillllate', 'metres', 'chatai', 'njoy', 'boty', 'khar', 'cahin', \"it'is\", 'osm', 'paavbhaji', 'faloodab', 'thatvegfoodie', '1970s', '😀', 'prithvitheater', 'sugaholic', 'dessertlover', 'bloggerlife', 'foodiesofinstagram', 'sweetooth', 'teasofinstagram', 'foodphotography', 'foodaholic', '210', '190', '9.5/10', 'sitafal', 'diahes', 'them.much', 'served.pue', 'dominoz', '4.00', 'sandwich-', 'munna', 'munni', 'anar', 'mukesh', 'hajiali', 'unaccomodating', 'food!the', 'maramari', 'yummmmm', 'achija', 'ghatkopar', 'amul', '12.30', 'mysore', 'staff@trip', 'oct.', 'ramee', 'yummy.highly', 'ganpati', 'bhaiji', 'heena', 'excellentalty', 'visit.', '<3', '1:30', 'sandwic', 'milshakes', '12am', 'zoomcar', 'parking/', 'savour', 'uttapam', 'mumbaiyaa', 'schewan', '😃', 'amratsari', 'effortable', '💯', 'sulemani', '3.amritsari', '4.amritsari', '5.butter', 'roll-', 'rating-1/5', '6.veggie', 'delite', 'rating-3.5/5', '7.nachos', 'cheese-', 'shake-', 'rating-5/5', 'ambience-3/5', 'food-3/5', 'service-2/5', 'hygiene-2/5', '2.chilli', 'hielo', 'chowpati', 'cafe-', '⭐', 'nachoos', 'pressurised', 'jitu', 'cockroches', 'vileparle', '️ambience', 'eyecatchy', 'dećor', '️staff', '️food', 'yummilicious', '😉', '10th', 'arjuna', 'neembu', 'chach', '1900', 'sanjana', 'shashi', 'janki', 'kutir', 'juhuchurch', 'foodbloggers', 'irishcoffee', 'prithvitheatre', '10.30am', '10.00pm', 'tihis', 'aalu', 'hariyali', 'nummy', '☕', 'coffeeish', \"teenager's\", 'chai(which', 'rajat', '-virginia', 'baileys', 'food:4.5/5', 'ambiance:4/5', 'woolf', '️white', '•aloo', '2parathas', 'ordered:-', '•nachos', '•classic', 'rating:-', 'food-4/5', 'ambience-5/5', 'service-4/5', 'brijwasi', 'bablu', '❣', '4:-', '5:-', '👩', '\\u200d', '🍳', 'starters:-', '👁', '1:-', '2:-', '3:-', 'amazeballs', '😜', ',the', 'cafe.but', 'wait.finally', 'snakes.and', 'kuhu', 'vaidya', '₹546', 'jalepno', 'destiantion', '4.0/5', 'chillness', 'patravali', 'carté', 'paranthewali', 'banofee', 'videsi', 'amritsur', 'recognise', 'glamour', 'amazinf', 'delieghful', 'food/', '130', 'qureshi', '150', 'mohamadali', 'jogeshwari', 'tbis', 'wawaiting', 'shehenshah', '₹740', '🙌', '₹90', '4.3/5', 'krishs', 'sizzlesrs', 'special.food', '💛', 'thandoor', 'tugda', '₹270', '₹70', 'samar', 'dilshan', 'ishraf', 'sewiya', 'family@', 'dasterkhan', 'tandori', 'mahbiar', 'dastarkhaan', 'dastarkhwan', 'nostalgia\"', 'again.its', 'masla', 'maslaa', 'mughalai', 'sahaab', 'bazaaar', 'relativley', 'dilruba', 'gravvy', 'darbaar', 's**t', '.price', 'genrous', 'shole', '.sholay', 'okaish', '.rotis', '.in', \"love'd\", 'cleanlier', 'zaffrani', '1600', '.service', '24/7', '💕', 'falouda', 'malpoua', 'nostrills', 'mugalai', 'chekn', 'buna', 'paaya', '1184817193', 'done.(3/5', 'gosht-', 'it.(4/5', 'falooda-', 'though.(4/5', 'though.(4.5/5', 'sholey', 'perfection.(4/5', 'nihari-', 'waldrof', 'try.also', '~700', 'woowww', 'chaurangi', 'rann', 'coverin', 'shantanu', 'nikhil', 'nariman', '4.30', 'restarant', 'specialities', 'overcrowdedness', 'pyaza', 'shenshah', 'mohmd', 'malpua', 'mohd', 'yummmy', 'aircondition', 'malpuwa', '14degrees', '245', '145', 'wowww', 'hygience', 'recommed', 'khichda', 'hyderabadi', '-ignore', '5.15pm', '5.30', '-time', '-practice', '-good', '-must', 'diid', '9.30', 'chole.chole', 'potota', '👎', 'vadey', 'vjole', 'badey', 'chole-', 'bhature-', 'jamun-', 'ubereats', 'somasa', 'chaaat', 'pattise', '1975', 'patiss', '😄', 'mamy', '✌', 'cheeeese', '1990', 'dhabi', 'bhalle', '2.30pm', 'ggt', ',i', '42', 'unfresh', 'gurukipa', '4)pav', '5)sandwiches', 'rasmali', 'kripa-', 'khatti', 'meethi', 'indrayani', 'anandam', 'angoor', 'rasgullas', 'gurukrupa', 'autoricksha', 'instituition', 'sionites', 'foolda', '.had', '.and', '.dal.pakwan', 'smtimes', 'tukk', 'singar', 'mufa', 'pufa', 'gajar', 'kucha', 'matunga', '41-year', '{', '}', 'bambaiyya', '15yrs', 'options-', 'samosa(one', 'samosa),sweets(all', 'sandwich).most', 'ticki', 'chass', 'milkcakes', 'ghevars', '/ragda', 'gulabjamun', 'bhatture', '90', '10a', 'bathura', 'you+me+nutella', '💥', 'trencher_man', 'picoftheday', 'chaach', '🍸', '🍹', 'i.e', 'bellpepper', 'tatse', 'nuttela', 'nityanand', 'gulam', 'parathaa', 'cuttney', 'dryfruit', 'chieldhood', 'are.quick', 'kulfu', 'sweets.etc', '1600rs', 'sevaiya', 'urband', '7.27pm', '7:15', 'b1g1', 'intetesting', 'and/or', 'ornthe', 'samart', '7:30pm', '30min', 'korum', 'alwaz', 'marengo', '2.47', 'babycorn', 'suateed', 'thekka', 'kandivali', 'shaslik', '727', 'melvyn', 'brownie.only', 'service.the', '21', 'incrediblely', 'dominios', 'peshawari', 'attentivness', 'yumm', 'arabiata', 'palazzio', 'patronise', '1442', 'smeel', 'good.lot', 'karla', 'spinachi', '3g.', 'ausome', 'archies', 'melwyn', '21:00', 'hyderabi', 'achah', 'r350', 'music.fast', '850', '660', 'nuttella', 'atmosohere', '•kheema', 'ghotala', '•french', '•sunny', '•pancake', 'rating:4/5', '•caramel', 'zoroastrians', 'mid-20th', '1990s', 'rusi', 'yazdegardi', 'j.j.', 'parsi', 'mondego', 'mondi', 'tuborg', '370/-', '375/-', 'amalfi', 'strogonoff', 'leigha', 'great-', 'food-3.5', 'service-5', '1500', 'napolitain', 'índia', 'whichyoy.othwrwise', 'musoc', 'breaki', 'alibaug', \"burger(don't\", 'mundegar', 'hornimen', 'bar/', 'thirdly-', 'italian/', '15years', 'adice', 'bhagat', 'staunchtravelerofficial', 'instagood', 'foodstagram', 'cafemondegar', '1300', '11:30', '₹1000', '/5', 'sause', 'jalepeones', 'yess', 'smaking', '5.30pm', 'oayments', 'omlett', 'leopolad', '12th', '8-', 'shikanji', '.totally', 'enjoyyyy', 'cosmopolitian', 'amras', 'orderes', 'vadapav', 'musal', 'poranpoli', 'uttappam', 'siddhivinayak', 'here.you', 'pilati', 'kotambhir', 'mishal', 'place-', 'sidhivinayak', 'uthapam', 'sathaye', 'pithle', 'shrikhand', 'scervice', 'thalipeth', 'puha', 'subzis', 'sachadiaries', 'farsan', 'revolutionised', 'maharashtraian', 'kothambir', 'tgroughly', 'masal', 'kothumbir', 'vasool', 'sadanand', 'mumbai-400028', 'karanji', 'uttappa', 'uttappas', 'sambhaar', 'kairi', 'panha', 'enquire', 'kothimber', 'sabudhana', 'regular/', 'day.crowd', 'less.we', 'batawada', '.both', 'good.you', 'food.good', 'expierience', 'redevelopemed.ambiance', 'authentic.we', 'kotimbrewadi', 'modkak.service', 'foodiehub', 'mamledar', 'puneri', 'misals', 'bedekar', 'thalipeeth,-kothimbir', 'thaleepith', 'kothmir', 'snacs', 'southindian', 'uncha', 'dukan', 'feeka', 'cravibf', 'characteristics.tastes', 'kolhapuri', '.apart', 'delicacies.we', 'priced.on', '1/2', '60s', '70s', 'thecha', 'bharli', 'vaangi', 'wowsie', 'thaalipith', 'tup(butter', 'ussal', 'kotambir', 'wadee', 'thalepet', 'piyus', 'sabudan', '.this', 'perhead', '150/-', 'mncs', 'brunch/', 'thalipeeths', 'masale', 'aswad', '5:30pm', 'patiences', 'nasik', 'kolhapur', 'chiwda', 'travellers', 'bhakari', 'sukhi', 'kothambari', 'maharstrian', 'zunka', 'bhakar', 'rasewali', 'pittal', 'pithala', '276/-', 'vangyachi', 'bharit', 'phodnicha', 'shivsena', 'mantains', 'adictive', 'vangi', 'maharashtran', 'streats', 'szechwan', 'frutti', 'elcomarket', '100rs', 'litre', 'aaloo', 'chaatwallah', 'golegappas', 'sandwitches', '24', 'oulet', '-an', '.made', '.no', '-my', 'lowerparel', 'stracciatela', 'pizza.simply', '-this', '.nutella', '.egg', 'saumil', 'vegiteran', 'savouring', 'dhosa', 'readywear', 'godrej', '58/64', 'order(s', 'foodfun', 'zaveridhaval', 'zaveri_d', 'elcos', 'surroundings+zero', 'pattuce', 'shezwan', 'liive', \"o'seas\", 'eate', 'rabri', 'place.food', '/masala', 'masala.place', 'sept,2018', 'gappa', 'gappas', 'gapas', 'haldiram', 'ambinace', 'badtata', 'streetfood', '₹', 'papdi', 'rasgulas', 'somky', 'disaapointed', 'margerita', 'food.', '-elco', 'ooori', 'randa', 'patire', '26th', '2016', 'maxican', 'golgappy', 'added(thanks', 'mumbai.this', 'flloor.whellchaired', 'diffulty.food', 'good.service', 'o.k', '6pcs', '80₹', 'gappe', 'yummyy', 'chatpati', 'fulda', 'dhai', 'bathuras', 'haridwar', 'mediocrely', 'tokri', 'usme', '80', 'athis', '28', 'lemonade:-', 'coke:-', 'buratto', 'pizza:-', 'creame', 'hornimon', '65', 'unattentive', '215', 'mussalam', '🙄', 'naan-', 'biryani-', 'custard-', 'specialised', 'chicken-', 'laanai', 'amazing-', 'cutleries', 'gohda', 'sasson', 'paya___it', 'rizvi', 'maqsood', 'rumaali', 'kulfis', 'churchgate', 'mumbaiya', 'kudoos', 'gpod', 'jamum', 'pamperising', '11.30pm', 'familiarised', 'breyani', '3000/-', 'licence', 'schwan', 'tabrez', 'recommend.good', 'anur', 'roganjosh', 'romali', 'lacha', 'paranparant', 'byryani', 'jamoun', 'dehli', 'briyanki', 'umesh', 'delicacies.elite', 'ambeince', 'pinterest', 'fooddiaries', 'mumbaifood', 'lovefood', 'zomatoin', 'loveforfood', 'outabout', 'foodoverload', 'foodismydrug', 'foodielifestyle', 'vegetarianfoodie', 'vegetarianfood', 'ghasphus', 'foodexplorer', 'hungrymumbaikar', 'munchymumbai', 'foodiliciousmumbai', 'foodholicmumbai', 'mffoodtrail', 'foodtalkindia', '1441pizzeria', 'awesomepizzas', 'thincrust', 'pizzamania', 'comfortfood', 'givememore', 'paneertika', 'daltadka', '3.00', 'o’clock', 'traveller', 'mocktail-', '90s', 'josh-', '900', 'bryani', '2018', 'jaffer', '.chicken', '.again', '🍽', 'harabara', 'manchuriyan', 'food.and', 'andside', 'nhn', '55₹.food', '400', '2005', 'penty', 'vegggies', 'yummmm', 'wsome', 'service-', 'korian', 'indo-', 'chickem', 'sapo', 'chese', 'inventedbits', 'eggetarians', 'dimsums', 'restutant', 'coopreatve', ':(', '-quantity', 'publicise', 'paytm', '495', '595', 'non-', '55', 'roaf', 'purvesh', 'sweeth', 'manchow', 'teramusu', 'delicious-', 'chiken', 'cantonese', 'pizz', '-course', 'thela', '.one', '8)', '4)the', 'fungent', 'cancelled', 'amaxing', 'dragen', 'neighbourhood', 'tofu/', 'dessers', 'bacardi', 'breezer', '15th', 'resaurant', 'schezuan', 'desert.(order']\n"
          ],
          "name": "stdout"
        }
      ]
    },
    {
      "cell_type": "markdown",
      "metadata": {
        "id": "xYmVrfbEtc0X"
      },
      "source": [
        "#### Glove Embeddings"
      ]
    },
    {
      "cell_type": "code",
      "metadata": {
        "id": "3SHCpw8IyxQ7"
      },
      "source": [
        "# glove_vectors = dict()\n",
        "# file = open(\"/content/drive/My Drive/Chatbot/data/glove.twitter.27B.200d.txt\",encoding=\"utf-8\")"
      ],
      "execution_count": null,
      "outputs": []
    },
    {
      "cell_type": "code",
      "metadata": {
        "id": "uVtUfZcTtcZj"
      },
      "source": [
        "# for line in file:\n",
        "#   values = line.split()\n",
        "#   word = values[0]\n",
        "#   vectors = np.asarray(values[1:])\n",
        "#   glove_vectors[word] = vectors"
      ],
      "execution_count": null,
      "outputs": []
    },
    {
      "cell_type": "code",
      "metadata": {
        "id": "zCGOSplpxyvt"
      },
      "source": [
        "# word_index =tokenizer.word_index\n",
        "# num_words = len(word_index.keys())\n",
        "# embedding_matrix= np.zeros((num_words+1,200)) ## 0 is reserved for padding token\n",
        "# out_of_vocab_words =[]\n",
        "# for word,i in word_index.items():\n",
        "#   vector = glove_vectors.get(word)\n",
        "#   if vector is not None:\n",
        "#     #print(i,word)\n",
        "#     embedding_matrix[i]=vector\n",
        "#   else: \n",
        "#     out_of_vocab_words.append(word)\n",
        "# print('Null word embeddings: %d' % np.sum(np.sum(embedding_matrix, axis=1) == 0))"
      ],
      "execution_count": null,
      "outputs": []
    },
    {
      "cell_type": "code",
      "metadata": {
        "id": "R7tzyjBZ0_9F"
      },
      "source": [
        "# print(\"Total Word embeddings available\",len(glove_vectors.keys()))\n",
        "# print(\"Tokenizer words (OUR VOCAB)\",num_words)\n",
        "# print(\"Vocab Embedding unused (no embeddings found)\",len(out_of_vocab_words))\n",
        "# print(\"Vocab Embeddings used (w2v embeddings found)\",num_words-len(out_of_vocab_words))\n",
        "# embedding_matrix.shape"
      ],
      "execution_count": null,
      "outputs": []
    },
    {
      "cell_type": "code",
      "metadata": {
        "id": "wF1asmgn1L8S"
      },
      "source": [
        "# print(out_of_vocab_words)"
      ],
      "execution_count": null,
      "outputs": []
    },
    {
      "cell_type": "markdown",
      "metadata": {
        "id": "hgABoyFde8iw"
      },
      "source": [
        "#### Choose Input and Output"
      ]
    },
    {
      "cell_type": "code",
      "metadata": {
        "id": "HB_5YqH0Kj4n"
      },
      "source": [
        "X_data = X\n",
        "y_data = y"
      ],
      "execution_count": null,
      "outputs": []
    },
    {
      "cell_type": "code",
      "metadata": {
        "id": "hPzxFUJ8MQtD"
      },
      "source": [
        "X_train, X_val, y_train, y_val= train_test_split(X_data, y_data, test_size=0.2,random_state=101) "
      ],
      "execution_count": null,
      "outputs": []
    },
    {
      "cell_type": "code",
      "metadata": {
        "colab": {
          "base_uri": "https://localhost:8080/"
        },
        "id": "dvhjncZDq1m5",
        "outputId": "158de76a-5b69-42c9-a214-e97e4b88e8ce"
      },
      "source": [
        "print(X_train.shape)\n",
        "print(X_val.shape)"
      ],
      "execution_count": null,
      "outputs": [
        {
          "output_type": "stream",
          "text": [
            "(5737, 30)\n",
            "(1435, 30)\n"
          ],
          "name": "stdout"
        }
      ]
    },
    {
      "cell_type": "markdown",
      "metadata": {
        "id": "Lv6XJreCSuLO"
      },
      "source": [
        "#### Model"
      ]
    },
    {
      "cell_type": "code",
      "metadata": {
        "id": "u-NuByu78N06"
      },
      "source": [
        ""
      ],
      "execution_count": null,
      "outputs": []
    },
    {
      "cell_type": "markdown",
      "metadata": {
        "id": "EVUgnrsQXzJi"
      },
      "source": [
        "##### Configurations and Architecture Build  "
      ]
    },
    {
      "cell_type": "code",
      "metadata": {
        "id": "DZ9wwXwolnbw"
      },
      "source": [
        "tf.compat.v1.reset_default_graph()"
      ],
      "execution_count": null,
      "outputs": []
    },
    {
      "cell_type": "code",
      "metadata": {
        "id": "ZamdCquigl8j"
      },
      "source": [
        "dropout_rate =0.4\n",
        "embed_dim=300 # w2v:300 glove:200\n",
        "hidden_units = 100\n",
        "batch_size=64\n",
        "epochs = 5"
      ],
      "execution_count": null,
      "outputs": []
    },
    {
      "cell_type": "code",
      "metadata": {
        "id": "6UQmoL8YSnzV",
        "colab": {
          "base_uri": "https://localhost:8080/",
          "height": 68
        },
        "outputId": "2951777e-4478-44c2-bd85-adda58b21394"
      },
      "source": [
        "num_words = len(tokenizer.word_index)\n",
        "input = Input(shape=(max_len,),dtype='int32')\n",
        "print(\"Input shape \",input.shape)\n",
        "embedding_layer = Embedding(num_words+1,embed_dim,input_length=max_len,weights=[embedding_matrix],trainable=True)\n",
        "embedded_input = embedding_layer(input)\n",
        "embedded_input = SpatialDropout1D(0.1)(embedded_input)\n",
        "print(\"Embedding shape \",embedded_input.shape)\n",
        "\n",
        "lstm = Bidirectional(LSTM(hidden_units,return_sequences=True,recurrent_dropout=0.1))\n",
        "output = lstm(embedded_input)\n",
        "print(\"Lstm output shape \",output.shape)\n",
        "output = TimeDistributed(Dense(num_tags, activation=\"softmax\"))(output)\n",
        "model = Model(input,output)"
      ],
      "execution_count": null,
      "outputs": [
        {
          "output_type": "stream",
          "text": [
            "Input shape  (None, 30)\n",
            "Embedding shape  (None, 30, 300)\n",
            "Lstm output shape  (None, 30, 200)\n"
          ],
          "name": "stdout"
        }
      ]
    },
    {
      "cell_type": "markdown",
      "metadata": {
        "id": "BaznJfeoTJbD"
      },
      "source": [
        "##### Compile and Checkpoints"
      ]
    },
    {
      "cell_type": "code",
      "metadata": {
        "id": "ByXk6kxWSyq2"
      },
      "source": [
        "model.compile(optimizer=\"adam\",\n",
        "              loss=\"sparse_categorical_crossentropy\",\n",
        "              metrics=[\"sparse_categorical_accuracy\"])"
      ],
      "execution_count": null,
      "outputs": []
    },
    {
      "cell_type": "code",
      "metadata": {
        "id": "vqp1l51MHtwc"
      },
      "source": [
        "# from tensorflow.keras.callbacks import ModelCheckpoint\n",
        "# filepath = '/content/drive/My Drive/Chatbot/cktps/'\n",
        "# checkpoint = ModelCheckpoint(filepath, monitor='val_accuracy', verbose=0, save_best_only=True, mode='max')\n",
        "# callbacks = [checkpoint]\n",
        "early_stopping = tf.keras.callbacks.EarlyStopping(\n",
        "    monitor='val_sparse_categorical_accuracy', min_delta=0, patience=2, verbose=1, mode='max',\n",
        "    baseline=None, restore_best_weights=True\n",
        ")\n",
        "\n",
        "callbacks =[early_stopping]"
      ],
      "execution_count": null,
      "outputs": []
    },
    {
      "cell_type": "code",
      "metadata": {
        "id": "T1X5BsSwRIHa"
      },
      "source": [
        "# checkpoint_directory = \"/content/drive/My Drive/FOOD_NER/BILSTM_checkpoint/\"\n",
        "# checkpoint = tf.train.Checkpoint(model=model) \n",
        "# manager = tf.train.CheckpointManager(checkpoint,checkpoint_directory,max_to_keep=2)\n",
        "# if manager.latest_checkpoint:\n",
        "#   checkpoint.restore(manager.latest_checkpoint) #Restores this Checkpoint and any objects it depends on.\n",
        "#   print(\"Latest Checkpoint restored!! \") "
      ],
      "execution_count": null,
      "outputs": []
    },
    {
      "cell_type": "markdown",
      "metadata": {
        "id": "8IUEFlsBTPAK"
      },
      "source": [
        "#### Training"
      ]
    },
    {
      "cell_type": "code",
      "metadata": {
        "id": "_V_1-yHpcFD_",
        "colab": {
          "base_uri": "https://localhost:8080/",
          "height": 306
        },
        "outputId": "a6a1aaf6-f225-4eb9-df62-0bc1f330dd22"
      },
      "source": [
        "%%time\n",
        "r =model.fit(X_train,y_train,batch_size=batch_size,epochs=20,callbacks=callbacks,validation_data=(X_val,y_val))\n",
        "# manager.save()"
      ],
      "execution_count": null,
      "outputs": [
        {
          "output_type": "stream",
          "text": [
            "Train on 5737 samples, validate on 1435 samples\n",
            "Epoch 1/20\n",
            "5737/5737 [==============================] - 23s 4ms/sample - loss: 0.1896 - sparse_categorical_accuracy: 0.9590 - val_loss: 0.0278 - val_sparse_categorical_accuracy: 0.9906\n",
            "Epoch 2/20\n",
            "5737/5737 [==============================] - 16s 3ms/sample - loss: 0.0167 - sparse_categorical_accuracy: 0.9944 - val_loss: 0.0099 - val_sparse_categorical_accuracy: 0.9966\n",
            "Epoch 3/20\n",
            "5737/5737 [==============================] - 15s 3ms/sample - loss: 0.0061 - sparse_categorical_accuracy: 0.9982 - val_loss: 0.0065 - val_sparse_categorical_accuracy: 0.9977\n",
            "Epoch 4/20\n",
            "5737/5737 [==============================] - 13s 2ms/sample - loss: 0.0030 - sparse_categorical_accuracy: 0.9992 - val_loss: 0.0057 - val_sparse_categorical_accuracy: 0.9979\n",
            "Epoch 5/20\n",
            "5737/5737 [==============================] - 16s 3ms/sample - loss: 0.0021 - sparse_categorical_accuracy: 0.9994 - val_loss: 0.0057 - val_sparse_categorical_accuracy: 0.9977\n",
            "Epoch 6/20\n",
            "5696/5737 [============================>.] - ETA: 0s - loss: 0.0015 - sparse_categorical_accuracy: 0.9996Restoring model weights from the end of the best epoch.\n",
            "5737/5737 [==============================] - 15s 3ms/sample - loss: 0.0015 - sparse_categorical_accuracy: 0.9996 - val_loss: 0.0056 - val_sparse_categorical_accuracy: 0.9979\n",
            "Epoch 00006: early stopping\n",
            "CPU times: user 1min 45s, sys: 21.6 s, total: 2min 7s\n",
            "Wall time: 1min 39s\n"
          ],
          "name": "stdout"
        }
      ]
    },
    {
      "cell_type": "code",
      "metadata": {
        "id": "KlgD8yc4ewPu",
        "colab": {
          "base_uri": "https://localhost:8080/",
          "height": 51
        },
        "outputId": "efc1d751-256b-4c5e-e358-05b92edc8623"
      },
      "source": [
        "model.evaluate(X_val,y_val)"
      ],
      "execution_count": null,
      "outputs": [
        {
          "output_type": "stream",
          "text": [
            "1435/1435 [==============================] - 1s 970us/sample - loss: 0.0057 - sparse_categorical_accuracy: 0.9979\n"
          ],
          "name": "stdout"
        },
        {
          "output_type": "execute_result",
          "data": {
            "text/plain": [
              "[0.005741452691323718, 0.9979326]"
            ]
          },
          "metadata": {
            "tags": []
          },
          "execution_count": 46
        }
      ]
    },
    {
      "cell_type": "code",
      "metadata": {
        "id": "nvo71nr7B6tI"
      },
      "source": [
        "model.save(\"/content/drive/My Drive/Food_NER/BILSTM_model_final2.h5\")"
      ],
      "execution_count": null,
      "outputs": []
    },
    {
      "cell_type": "markdown",
      "metadata": {
        "id": "-cziJ7wSIEzu"
      },
      "source": [
        "Load Trained model"
      ]
    },
    {
      "cell_type": "code",
      "metadata": {
        "id": "P49Cvzb6HhDE",
        "colab": {
          "base_uri": "https://localhost:8080/",
          "height": 68
        },
        "outputId": "c6e66758-eef9-4de9-dfbe-96969a8b93a1"
      },
      "source": [
        "# newmodel = tf.keras.models.load_model(\"/content/drive/My Drive/Food_NER/BILSTM_model_final.h5\")"
      ],
      "execution_count": null,
      "outputs": [
        {
          "output_type": "stream",
          "text": [
            "WARNING:tensorflow:Layer lstm will not use cuDNN kernel since it doesn't meet the cuDNN kernel criteria. It will use generic GPU kernel as fallback when running on GPU\n",
            "WARNING:tensorflow:Layer lstm will not use cuDNN kernel since it doesn't meet the cuDNN kernel criteria. It will use generic GPU kernel as fallback when running on GPU\n",
            "WARNING:tensorflow:Layer lstm will not use cuDNN kernel since it doesn't meet the cuDNN kernel criteria. It will use generic GPU kernel as fallback when running on GPU\n"
          ],
          "name": "stdout"
        }
      ]
    },
    {
      "cell_type": "code",
      "metadata": {
        "id": "ZXVtwuFtNgYB",
        "colab": {
          "base_uri": "https://localhost:8080/",
          "height": 51
        },
        "outputId": "f13a02b5-10f9-488e-ffbb-e80e2cfad2a5"
      },
      "source": [
        "# newmodel.evaluate(X_val,y_val)"
      ],
      "execution_count": null,
      "outputs": [
        {
          "output_type": "stream",
          "text": [
            "45/45 [==============================] - 1s 31ms/step - loss: 0.0058 - sparse_categorical_accuracy: 0.9982\n"
          ],
          "name": "stdout"
        },
        {
          "output_type": "execute_result",
          "data": {
            "text/plain": [
              "[0.005757369566708803, 0.9981649518013]"
            ]
          },
          "metadata": {
            "tags": []
          },
          "execution_count": 43
        }
      ]
    },
    {
      "cell_type": "markdown",
      "metadata": {
        "id": "kNygwj29ISXp"
      },
      "source": [
        "Plot history"
      ]
    },
    {
      "cell_type": "code",
      "metadata": {
        "id": "4WX_M2qXCVfJ",
        "colab": {
          "base_uri": "https://localhost:8080/",
          "height": 573
        },
        "outputId": "5913013e-4031-46e4-e42a-6edbefbbf10f"
      },
      "source": [
        "# Plot accuracy\n",
        "plt.plot(r.history['sparse_categorical_accuracy'])\n",
        "plt.plot(r.history['val_sparse_categorical_accuracy'])\n",
        "plt.title('Model Accuracy')\n",
        "plt.ylabel('Accuracy')\n",
        "plt.xlabel('Epoch')\n",
        "plt.legend(['Train', 'Validation'], loc='upper left')\n",
        "plt.show()\n",
        "\n",
        "# Plot loss\n",
        "plt.plot(r.history['loss'])\n",
        "plt.plot(r.history['val_loss'])\n",
        "plt.title('Model Loss')\n",
        "plt.ylabel('Loss')\n",
        "plt.xlabel('Epoch')\n",
        "plt.legend(['Train', 'Validation'], loc='upper right')\n",
        "plt.show()"
      ],
      "execution_count": null,
      "outputs": [
        {
          "output_type": "display_data",
          "data": {
            "image/png": "[encoded data removed]",
            "text/plain": [
              "<Figure size 432x288 with 1 Axes>"
            ]
          },
          "metadata": {
            "tags": [],
            "needs_background": "light"
          }
        },
        {
          "output_type": "display_data",
          "data": {
            "image/png": "[encoded data removed]",
            "text/plain": [
              "<Figure size 432x288 with 1 Axes>"
            ]
          },
          "metadata": {
            "tags": [],
            "needs_background": "light"
          }
        }
      ]
    },
    {
      "cell_type": "markdown",
      "metadata": {
        "id": "Ywfj9msH3mQT"
      },
      "source": [
        "#### Evaluate"
      ]
    },
    {
      "cell_type": "markdown",
      "metadata": {
        "id": "LNhrL8A09Rtk"
      },
      "source": [
        "##### preprocess function"
      ]
    },
    {
      "cell_type": "code",
      "metadata": {
        "id": "tvQL1fXo9QlW"
      },
      "source": [
        "# def text_process(text):\n",
        "#     ''' Pre process and convert texts to a list of words '''\n",
        "#     text = str(text)\n",
        "#     text = text.lower()\n",
        "\n",
        "#     # Clean the text\n",
        "#     text = re.sub(r\"[^A-Za-z0-9^,!.\\/'+-=]\", \" \", text)\n",
        "#     text = re.sub(r\"what's\", \"what is \", text)\n",
        "#     text = re.sub(r\"\\'s\", \" \", text)\n",
        "#     text = re.sub(r\"\\'ve\", \" have \", text)\n",
        "#     text = re.sub(r\"can't\", \"cannot \", text)\n",
        "#     text = re.sub(r\"n't\", \" not \", text)\n",
        "#     text = re.sub(r\"i'm\", \"i am \", text)\n",
        "#     text = re.sub(r\"\\'re\", \" are \", text)\n",
        "#     text = re.sub(r\"\\'d\", \" would \", text)\n",
        "#     text = re.sub(r\"\\'ll\", \" will \", text)\n",
        "#     text = re.sub(r\",\", \" \", text)\n",
        "#     text = re.sub(r\"\\.\", \" \", text)\n",
        "#     text = re.sub(r\"!\", \" ! \", text)\n",
        "#     text = re.sub(r\"\\/\", \" \", text)\n",
        "#     text = re.sub(r\"\\^\", \" ^ \", text)\n",
        "#     text = re.sub(r\"\\+\", \" + \", text)\n",
        "#     text = re.sub(r\"\\-\", \" - \", text)\n",
        "#     text = re.sub(r\"\\=\", \" = \", text)\n",
        "#     text = re.sub(r\"'\", \" \", text)\n",
        "#     text = re.sub(r\"(\\d+)(k)\", r\"\\g<1>000\", text)\n",
        "#     text = re.sub(r\":\", \" : \", text)\n",
        "#     text = re.sub(r\" e g \", \" eg \", text)\n",
        "#     text = re.sub(r\" b g \", \" bg \", text)\n",
        "#     text = re.sub(r\" u s \", \" american \", text)\n",
        "#     text = re.sub(r\"\\0s\", \"0\", text)\n",
        "#     text = re.sub(r\" 9 11 \", \"911\", text)\n",
        "#     text = re.sub(r\"e - mail\", \"email\", text)\n",
        "#     text = re.sub(r\"j k\", \"jk\", text)\n",
        "#     text = re.sub(r\"\\s{2,}\", \" \", text)\n",
        "\n",
        "#     text = text.split()\n",
        "#     text = [word for word in text if word not in stop_words]\n",
        "#     text = ' '.join(text)\n",
        "#     return text"
      ],
      "execution_count": null,
      "outputs": []
    },
    {
      "cell_type": "markdown",
      "metadata": {
        "id": "FZLqRK7X9f2q"
      },
      "source": [
        "##### Load and predict"
      ]
    },
    {
      "cell_type": "code",
      "metadata": {
        "id": "HW7DMC3ZRmng"
      },
      "source": [
        "# def clean_stop(text):\n",
        "#   text = text.split()\n",
        "#   text = [word for word in text if word not in stops]\n",
        "#   return ' '.join(text)"
      ],
      "execution_count": null,
      "outputs": []
    },
    {
      "cell_type": "code",
      "metadata": {
        "id": "F5HXEqA_7FOe"
      },
      "source": [
        "num_words = len(tokenizer.word_index)\n",
        "from tensorflow.keras.preprocessing.sequence import pad_sequences\n",
        "max_len =30\n",
        "def give_prediction(text):\n",
        "  #text = clean_stop(text)\n",
        "  #print(text)\n",
        "  sent = []\n",
        "  tagseq =[]\n",
        "  text = ' '.join(word_tokenize(text))\n",
        "  sentence_ids = tokenizer.texts_to_sequences([text])\n",
        "  padded_ids = pad_sequences(maxlen=max_len, sequences=sentence_ids, padding=\"post\", value=num_words)\n",
        "  pred = model.predict(padded_ids)\n",
        "  pred = np.argmax(pred,axis=-1)\n",
        "  review_words = text.split()\n",
        "  print(\"Interpreted as : \",tokenizer.sequences_to_texts(sentence_ids)[0])\n",
        "  # text_padded = tokenizer.sequences_to_texts(sentence_ids)\n",
        "  c=0\n",
        "  for i,p in enumerate(pred[0,:]):\n",
        "    #print(review_words[i],idx2tag[p])\n",
        "    sent.append(review_words[i])\n",
        "    tagseq.append(idx2tag[p])\n",
        "    #print(f'{idx2word[x] : {15}} {idx2tag[y] :{15}}')\n",
        "    #print(\"{:15}{}\\t{}\".format(x,y))\n",
        "    c+=1\n",
        "    if c == len(review_words):\n",
        "      break\n",
        "  return sent,tagseq\n",
        "text = \"The biryani and sev puri looked good but the flavor was lacking\"\n",
        "s,t =give_prediction(text)\n",
        "print(\"Input: \",text)\n",
        "print(\"Output:\",t)"
      ],
      "execution_count": null,
      "outputs": []
    },
    {
      "cell_type": "code",
      "metadata": {
        "id": "dJhrqbqx9QD9",
        "colab": {
          "base_uri": "https://localhost:8080/",
          "height": 34
        },
        "outputId": "bcaddfcb-db11-440a-ab5e-f2a7f9595113"
      },
      "source": [
        "## Print Food Entities \n",
        "## WORKS IF STOPS ARE NOT REMOVED\n",
        "foods =[]\n",
        "for i,(word,tag) in enumerate(zip(s,t)) :\n",
        "  if i == 0:\n",
        "    if tag == 'E':\n",
        "      foods.append(word)\n",
        "      continue\n",
        "  if tag=='E':\n",
        "    foods.append(word)\n",
        "    if t[i-1]=='E':\n",
        "      first = foods.pop(-2)\n",
        "      foods[-1]=first+' '+word\n",
        "print(foods)"
      ],
      "execution_count": null,
      "outputs": [
        {
          "output_type": "stream",
          "text": [
            "['biryani', 'sev puri']\n"
          ],
          "name": "stdout"
        }
      ]
    },
    {
      "cell_type": "code",
      "metadata": {
        "id": "r-MKA7xqSY-V",
        "colab": {
          "base_uri": "https://localhost:8080/",
          "height": 34
        },
        "outputId": "fa2273a8-be7a-4082-8471-0ae77f016133"
      },
      "source": [
        "# ### Print Food Entities \n",
        "# ### WORKS IF STOPS ARE REMOVED\n",
        "# foods =[]\n",
        "# for i,(word,tag) in enumerate(zip(s,t)) :\n",
        "#     if tag == 'E':\n",
        "#       foods.append(word)\n",
        "# print(foods)"
      ],
      "execution_count": null,
      "outputs": [
        {
          "output_type": "stream",
          "text": [
            "['biryani', 'sev', 'puri']\n"
          ],
          "name": "stdout"
        }
      ]
    }
  ]
}